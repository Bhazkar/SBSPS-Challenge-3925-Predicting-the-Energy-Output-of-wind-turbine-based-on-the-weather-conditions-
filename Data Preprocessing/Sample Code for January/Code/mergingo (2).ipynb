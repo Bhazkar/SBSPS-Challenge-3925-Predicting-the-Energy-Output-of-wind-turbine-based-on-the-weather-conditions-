{
 "cells": [
  {
   "cell_type": "markdown",
   "metadata": {},
   "source": [
    "*Import pandas library and read the csv file(Kaggle data) and assigning into a dataframe.*"
   ]
  },
  {
   "cell_type": "code",
   "execution_count": 1,
   "metadata": {},
   "outputs": [
    {
     "data": {
      "text/html": [
       "<div>\n",
       "<style scoped>\n",
       "    .dataframe tbody tr th:only-of-type {\n",
       "        vertical-align: middle;\n",
       "    }\n",
       "\n",
       "    .dataframe tbody tr th {\n",
       "        vertical-align: top;\n",
       "    }\n",
       "\n",
       "    .dataframe thead th {\n",
       "        text-align: right;\n",
       "    }\n",
       "</style>\n",
       "<table border=\"1\" class=\"dataframe\">\n",
       "  <thead>\n",
       "    <tr style=\"text-align: right;\">\n",
       "      <th></th>\n",
       "      <th>Date_Time</th>\n",
       "      <th>Active Power (kw)</th>\n",
       "      <th>Wind Speed (miles/hr)</th>\n",
       "    </tr>\n",
       "  </thead>\n",
       "  <tbody>\n",
       "    <tr>\n",
       "      <th>0</th>\n",
       "      <td>2018-01-01 00:20:00</td>\n",
       "      <td>380.064524</td>\n",
       "      <td>12.079133</td>\n",
       "    </tr>\n",
       "    <tr>\n",
       "      <th>1</th>\n",
       "      <td>2018-01-01 00:50:00</td>\n",
       "      <td>400.896200</td>\n",
       "      <td>12.557933</td>\n",
       "    </tr>\n",
       "    <tr>\n",
       "      <th>2</th>\n",
       "      <td>2018-01-01 01:20:00</td>\n",
       "      <td>432.833038</td>\n",
       "      <td>12.440135</td>\n",
       "    </tr>\n",
       "    <tr>\n",
       "      <th>3</th>\n",
       "      <td>2018-01-01 01:50:00</td>\n",
       "      <td>488.241211</td>\n",
       "      <td>12.811360</td>\n",
       "    </tr>\n",
       "    <tr>\n",
       "      <th>4</th>\n",
       "      <td>2018-01-01 02:20:00</td>\n",
       "      <td>706.848022</td>\n",
       "      <td>14.355594</td>\n",
       "    </tr>\n",
       "  </tbody>\n",
       "</table>\n",
       "</div>"
      ],
      "text/plain": [
       "            Date_Time  Active Power (kw)  Wind Speed (miles/hr)\n",
       "0 2018-01-01 00:20:00         380.064524              12.079133\n",
       "1 2018-01-01 00:50:00         400.896200              12.557933\n",
       "2 2018-01-01 01:20:00         432.833038              12.440135\n",
       "3 2018-01-01 01:50:00         488.241211              12.811360\n",
       "4 2018-01-01 02:20:00         706.848022              14.355594"
      ]
     },
     "execution_count": 1,
     "metadata": {},
     "output_type": "execute_result"
    }
   ],
   "source": [
    "import pandas as pd\n",
    "df = pd.read_csv('data (1).csv',parse_dates=['Date_Time'])\n",
    "df.head()"
   ]
  },
  {
   "cell_type": "markdown",
   "metadata": {},
   "source": [
    "*Rename the column in dataframe.*"
   ]
  },
  {
   "cell_type": "code",
   "execution_count": 2,
   "metadata": {},
   "outputs": [],
   "source": [
    "df.rename(columns = {'Date_Time':'Date'}, inplace = True) "
   ]
  },
  {
   "cell_type": "code",
   "execution_count": 3,
   "metadata": {},
   "outputs": [
    {
     "data": {
      "text/html": [
       "<div>\n",
       "<style scoped>\n",
       "    .dataframe tbody tr th:only-of-type {\n",
       "        vertical-align: middle;\n",
       "    }\n",
       "\n",
       "    .dataframe tbody tr th {\n",
       "        vertical-align: top;\n",
       "    }\n",
       "\n",
       "    .dataframe thead th {\n",
       "        text-align: right;\n",
       "    }\n",
       "</style>\n",
       "<table border=\"1\" class=\"dataframe\">\n",
       "  <thead>\n",
       "    <tr style=\"text-align: right;\">\n",
       "      <th></th>\n",
       "      <th>Date</th>\n",
       "      <th>Active Power (kw)</th>\n",
       "      <th>Wind Speed (miles/hr)</th>\n",
       "    </tr>\n",
       "  </thead>\n",
       "  <tbody>\n",
       "    <tr>\n",
       "      <th>0</th>\n",
       "      <td>2018-01-01 00:20:00</td>\n",
       "      <td>380.064524</td>\n",
       "      <td>12.079133</td>\n",
       "    </tr>\n",
       "    <tr>\n",
       "      <th>1</th>\n",
       "      <td>2018-01-01 00:50:00</td>\n",
       "      <td>400.896200</td>\n",
       "      <td>12.557933</td>\n",
       "    </tr>\n",
       "    <tr>\n",
       "      <th>2</th>\n",
       "      <td>2018-01-01 01:20:00</td>\n",
       "      <td>432.833038</td>\n",
       "      <td>12.440135</td>\n",
       "    </tr>\n",
       "    <tr>\n",
       "      <th>3</th>\n",
       "      <td>2018-01-01 01:50:00</td>\n",
       "      <td>488.241211</td>\n",
       "      <td>12.811360</td>\n",
       "    </tr>\n",
       "    <tr>\n",
       "      <th>4</th>\n",
       "      <td>2018-01-01 02:20:00</td>\n",
       "      <td>706.848022</td>\n",
       "      <td>14.355594</td>\n",
       "    </tr>\n",
       "  </tbody>\n",
       "</table>\n",
       "</div>"
      ],
      "text/plain": [
       "                 Date  Active Power (kw)  Wind Speed (miles/hr)\n",
       "0 2018-01-01 00:20:00         380.064524              12.079133\n",
       "1 2018-01-01 00:50:00         400.896200              12.557933\n",
       "2 2018-01-01 01:20:00         432.833038              12.440135\n",
       "3 2018-01-01 01:50:00         488.241211              12.811360\n",
       "4 2018-01-01 02:20:00         706.848022              14.355594"
      ]
     },
     "execution_count": 3,
     "metadata": {},
     "output_type": "execute_result"
    }
   ],
   "source": [
    "df.head()"
   ]
  },
  {
   "cell_type": "markdown",
   "metadata": {},
   "source": [
    "*Assign the kaggle data of january month to new data frame.*"
   ]
  },
  {
   "cell_type": "code",
   "execution_count": 4,
   "metadata": {},
   "outputs": [],
   "source": [
    "dfn = df[0:1488]"
   ]
  },
  {
   "cell_type": "code",
   "execution_count": 5,
   "metadata": {},
   "outputs": [
    {
     "data": {
      "text/html": [
       "<div>\n",
       "<style scoped>\n",
       "    .dataframe tbody tr th:only-of-type {\n",
       "        vertical-align: middle;\n",
       "    }\n",
       "\n",
       "    .dataframe tbody tr th {\n",
       "        vertical-align: top;\n",
       "    }\n",
       "\n",
       "    .dataframe thead th {\n",
       "        text-align: right;\n",
       "    }\n",
       "</style>\n",
       "<table border=\"1\" class=\"dataframe\">\n",
       "  <thead>\n",
       "    <tr style=\"text-align: right;\">\n",
       "      <th></th>\n",
       "      <th>Date</th>\n",
       "      <th>Active Power (kw)</th>\n",
       "      <th>Wind Speed (miles/hr)</th>\n",
       "    </tr>\n",
       "  </thead>\n",
       "  <tbody>\n",
       "    <tr>\n",
       "      <th>1483</th>\n",
       "      <td>2018-01-31 21:50:00</td>\n",
       "      <td>799.017843</td>\n",
       "      <td>15.054775</td>\n",
       "    </tr>\n",
       "    <tr>\n",
       "      <th>1484</th>\n",
       "      <td>2018-01-31 22:20:00</td>\n",
       "      <td>903.105123</td>\n",
       "      <td>15.563298</td>\n",
       "    </tr>\n",
       "    <tr>\n",
       "      <th>1485</th>\n",
       "      <td>2018-01-31 22:50:00</td>\n",
       "      <td>758.728760</td>\n",
       "      <td>14.776648</td>\n",
       "    </tr>\n",
       "    <tr>\n",
       "      <th>1486</th>\n",
       "      <td>2018-01-31 23:20:00</td>\n",
       "      <td>1036.663330</td>\n",
       "      <td>16.205472</td>\n",
       "    </tr>\n",
       "    <tr>\n",
       "      <th>1487</th>\n",
       "      <td>2018-01-31 23:50:00</td>\n",
       "      <td>894.865072</td>\n",
       "      <td>15.407909</td>\n",
       "    </tr>\n",
       "  </tbody>\n",
       "</table>\n",
       "</div>"
      ],
      "text/plain": [
       "                    Date  Active Power (kw)  Wind Speed (miles/hr)\n",
       "1483 2018-01-31 21:50:00         799.017843              15.054775\n",
       "1484 2018-01-31 22:20:00         903.105123              15.563298\n",
       "1485 2018-01-31 22:50:00         758.728760              14.776648\n",
       "1486 2018-01-31 23:20:00        1036.663330              16.205472\n",
       "1487 2018-01-31 23:50:00         894.865072              15.407909"
      ]
     },
     "execution_count": 5,
     "metadata": {},
     "output_type": "execute_result"
    }
   ],
   "source": [
    "dfn.tail()"
   ]
  },
  {
   "cell_type": "markdown",
   "metadata": {},
   "source": [
    "*Read the weather data file of january month and assing into a dataframe.*"
   ]
  },
  {
   "cell_type": "code",
   "execution_count": 6,
   "metadata": {},
   "outputs": [
    {
     "data": {
      "text/html": [
       "<div>\n",
       "<style scoped>\n",
       "    .dataframe tbody tr th:only-of-type {\n",
       "        vertical-align: middle;\n",
       "    }\n",
       "\n",
       "    .dataframe tbody tr th {\n",
       "        vertical-align: top;\n",
       "    }\n",
       "\n",
       "    .dataframe thead th {\n",
       "        text-align: right;\n",
       "    }\n",
       "</style>\n",
       "<table border=\"1\" class=\"dataframe\">\n",
       "  <thead>\n",
       "    <tr style=\"text-align: right;\">\n",
       "      <th></th>\n",
       "      <th>Date</th>\n",
       "      <th>Tempreature</th>\n",
       "      <th>Dp</th>\n",
       "      <th>Humidity</th>\n",
       "      <th>Pressure</th>\n",
       "    </tr>\n",
       "  </thead>\n",
       "  <tbody>\n",
       "    <tr>\n",
       "      <th>0</th>\n",
       "      <td>2018-01-01 00:20:00</td>\n",
       "      <td>43 F</td>\n",
       "      <td>41 F</td>\n",
       "      <td>93 %</td>\n",
       "      <td>29.75 in</td>\n",
       "    </tr>\n",
       "    <tr>\n",
       "      <th>1</th>\n",
       "      <td>2018-01-01 00:50:00</td>\n",
       "      <td>43 F</td>\n",
       "      <td>39 F</td>\n",
       "      <td>87 %</td>\n",
       "      <td>29.75 in</td>\n",
       "    </tr>\n",
       "    <tr>\n",
       "      <th>2</th>\n",
       "      <td>2018-01-01 01:20:00</td>\n",
       "      <td>45 F</td>\n",
       "      <td>39 F</td>\n",
       "      <td>81 %</td>\n",
       "      <td>29.75 in</td>\n",
       "    </tr>\n",
       "    <tr>\n",
       "      <th>3</th>\n",
       "      <td>2018-01-01 01:50:00</td>\n",
       "      <td>45 F</td>\n",
       "      <td>39 F</td>\n",
       "      <td>81 %</td>\n",
       "      <td>29.75 in</td>\n",
       "    </tr>\n",
       "    <tr>\n",
       "      <th>4</th>\n",
       "      <td>2018-01-01 02:20:00</td>\n",
       "      <td>45 F</td>\n",
       "      <td>41 F</td>\n",
       "      <td>87 %</td>\n",
       "      <td>29.75 in</td>\n",
       "    </tr>\n",
       "  </tbody>\n",
       "</table>\n",
       "</div>"
      ],
      "text/plain": [
       "                 Date Tempreature    Dp Humidity  Pressure\n",
       "0 2018-01-01 00:20:00        43 F  41 F     93 %  29.75 in\n",
       "1 2018-01-01 00:50:00        43 F  39 F     87 %  29.75 in\n",
       "2 2018-01-01 01:20:00        45 F  39 F     81 %  29.75 in\n",
       "3 2018-01-01 01:50:00        45 F  39 F     81 %  29.75 in\n",
       "4 2018-01-01 02:20:00        45 F  41 F     87 %  29.75 in"
      ]
     },
     "execution_count": 6,
     "metadata": {},
     "output_type": "execute_result"
    }
   ],
   "source": [
    "df1 = pd.read_csv('jan.csv',parse_dates=['Date'])\n",
    "df1.head()"
   ]
  },
  {
   "cell_type": "code",
   "execution_count": 7,
   "metadata": {},
   "outputs": [
    {
     "data": {
      "text/html": [
       "<div>\n",
       "<style scoped>\n",
       "    .dataframe tbody tr th:only-of-type {\n",
       "        vertical-align: middle;\n",
       "    }\n",
       "\n",
       "    .dataframe tbody tr th {\n",
       "        vertical-align: top;\n",
       "    }\n",
       "\n",
       "    .dataframe thead th {\n",
       "        text-align: right;\n",
       "    }\n",
       "</style>\n",
       "<table border=\"1\" class=\"dataframe\">\n",
       "  <thead>\n",
       "    <tr style=\"text-align: right;\">\n",
       "      <th></th>\n",
       "      <th>Date</th>\n",
       "      <th>Tempreature</th>\n",
       "      <th>Dp</th>\n",
       "      <th>Humidity</th>\n",
       "      <th>Pressure</th>\n",
       "    </tr>\n",
       "  </thead>\n",
       "  <tbody>\n",
       "    <tr>\n",
       "      <th>1532</th>\n",
       "      <td>2018-01-31 21:50:00</td>\n",
       "      <td>45 F</td>\n",
       "      <td>30 F</td>\n",
       "      <td>57 %</td>\n",
       "      <td>29.87 in</td>\n",
       "    </tr>\n",
       "    <tr>\n",
       "      <th>1533</th>\n",
       "      <td>2018-01-31 22:20:00</td>\n",
       "      <td>43 F</td>\n",
       "      <td>30 F</td>\n",
       "      <td>61 %</td>\n",
       "      <td>29.87 in</td>\n",
       "    </tr>\n",
       "    <tr>\n",
       "      <th>1534</th>\n",
       "      <td>2018-01-31 22:50:00</td>\n",
       "      <td>43 F</td>\n",
       "      <td>28 F</td>\n",
       "      <td>57 %</td>\n",
       "      <td>29.87 in</td>\n",
       "    </tr>\n",
       "    <tr>\n",
       "      <th>1535</th>\n",
       "      <td>2018-01-31 23:20:00</td>\n",
       "      <td>43 F</td>\n",
       "      <td>30 F</td>\n",
       "      <td>61 %</td>\n",
       "      <td>29.87 in</td>\n",
       "    </tr>\n",
       "    <tr>\n",
       "      <th>1536</th>\n",
       "      <td>2018-01-31 23:50:00</td>\n",
       "      <td>41 F</td>\n",
       "      <td>30 F</td>\n",
       "      <td>65 %</td>\n",
       "      <td>29.87 in</td>\n",
       "    </tr>\n",
       "  </tbody>\n",
       "</table>\n",
       "</div>"
      ],
      "text/plain": [
       "                    Date Tempreature    Dp Humidity  Pressure\n",
       "1532 2018-01-31 21:50:00        45 F  30 F     57 %  29.87 in\n",
       "1533 2018-01-31 22:20:00        43 F  30 F     61 %  29.87 in\n",
       "1534 2018-01-31 22:50:00        43 F  28 F     57 %  29.87 in\n",
       "1535 2018-01-31 23:20:00        43 F  30 F     61 %  29.87 in\n",
       "1536 2018-01-31 23:50:00        41 F  30 F     65 %  29.87 in"
      ]
     },
     "execution_count": 7,
     "metadata": {},
     "output_type": "execute_result"
    }
   ],
   "source": [
    "df1.tail()"
   ]
  },
  {
   "cell_type": "markdown",
   "metadata": {},
   "source": [
    "*Merge the two dataframes.*"
   ]
  },
  {
   "cell_type": "code",
   "execution_count": 8,
   "metadata": {},
   "outputs": [],
   "source": [
    "df2 = pd.merge(dfn,df1,how='left',on='Date')"
   ]
  },
  {
   "cell_type": "code",
   "execution_count": 9,
   "metadata": {},
   "outputs": [
    {
     "data": {
      "text/html": [
       "<div>\n",
       "<style scoped>\n",
       "    .dataframe tbody tr th:only-of-type {\n",
       "        vertical-align: middle;\n",
       "    }\n",
       "\n",
       "    .dataframe tbody tr th {\n",
       "        vertical-align: top;\n",
       "    }\n",
       "\n",
       "    .dataframe thead th {\n",
       "        text-align: right;\n",
       "    }\n",
       "</style>\n",
       "<table border=\"1\" class=\"dataframe\">\n",
       "  <thead>\n",
       "    <tr style=\"text-align: right;\">\n",
       "      <th></th>\n",
       "      <th>Date</th>\n",
       "      <th>Active Power (kw)</th>\n",
       "      <th>Wind Speed (miles/hr)</th>\n",
       "      <th>Tempreature</th>\n",
       "      <th>Dp</th>\n",
       "      <th>Humidity</th>\n",
       "      <th>Pressure</th>\n",
       "    </tr>\n",
       "  </thead>\n",
       "  <tbody>\n",
       "    <tr>\n",
       "      <th>0</th>\n",
       "      <td>2018-01-01 00:20:00</td>\n",
       "      <td>380.064524</td>\n",
       "      <td>12.079133</td>\n",
       "      <td>43 F</td>\n",
       "      <td>41 F</td>\n",
       "      <td>93 %</td>\n",
       "      <td>29.75 in</td>\n",
       "    </tr>\n",
       "    <tr>\n",
       "      <th>1</th>\n",
       "      <td>2018-01-01 00:50:00</td>\n",
       "      <td>400.896200</td>\n",
       "      <td>12.557933</td>\n",
       "      <td>43 F</td>\n",
       "      <td>39 F</td>\n",
       "      <td>87 %</td>\n",
       "      <td>29.75 in</td>\n",
       "    </tr>\n",
       "    <tr>\n",
       "      <th>2</th>\n",
       "      <td>2018-01-01 01:20:00</td>\n",
       "      <td>432.833038</td>\n",
       "      <td>12.440135</td>\n",
       "      <td>45 F</td>\n",
       "      <td>39 F</td>\n",
       "      <td>81 %</td>\n",
       "      <td>29.75 in</td>\n",
       "    </tr>\n",
       "    <tr>\n",
       "      <th>3</th>\n",
       "      <td>2018-01-01 01:50:00</td>\n",
       "      <td>488.241211</td>\n",
       "      <td>12.811360</td>\n",
       "      <td>45 F</td>\n",
       "      <td>39 F</td>\n",
       "      <td>81 %</td>\n",
       "      <td>29.75 in</td>\n",
       "    </tr>\n",
       "    <tr>\n",
       "      <th>4</th>\n",
       "      <td>2018-01-01 02:20:00</td>\n",
       "      <td>706.848022</td>\n",
       "      <td>14.355594</td>\n",
       "      <td>45 F</td>\n",
       "      <td>41 F</td>\n",
       "      <td>87 %</td>\n",
       "      <td>29.75 in</td>\n",
       "    </tr>\n",
       "  </tbody>\n",
       "</table>\n",
       "</div>"
      ],
      "text/plain": [
       "                 Date  Active Power (kw)  Wind Speed (miles/hr) Tempreature  \\\n",
       "0 2018-01-01 00:20:00         380.064524              12.079133        43 F   \n",
       "1 2018-01-01 00:50:00         400.896200              12.557933        43 F   \n",
       "2 2018-01-01 01:20:00         432.833038              12.440135        45 F   \n",
       "3 2018-01-01 01:50:00         488.241211              12.811360        45 F   \n",
       "4 2018-01-01 02:20:00         706.848022              14.355594        45 F   \n",
       "\n",
       "     Dp Humidity  Pressure  \n",
       "0  41 F     93 %  29.75 in  \n",
       "1  39 F     87 %  29.75 in  \n",
       "2  39 F     81 %  29.75 in  \n",
       "3  39 F     81 %  29.75 in  \n",
       "4  41 F     87 %  29.75 in  "
      ]
     },
     "execution_count": 9,
     "metadata": {},
     "output_type": "execute_result"
    }
   ],
   "source": [
    "df2.head()"
   ]
  },
  {
   "cell_type": "markdown",
   "metadata": {},
   "source": [
    "*Check how many null values are present in data.*"
   ]
  },
  {
   "cell_type": "code",
   "execution_count": 10,
   "metadata": {},
   "outputs": [
    {
     "data": {
      "text/plain": [
       "Date                      0\n",
       "Active Power (kw)         0\n",
       "Wind Speed (miles/hr)     0\n",
       "Tempreature              62\n",
       "Dp                       62\n",
       "Humidity                 62\n",
       "Pressure                 62\n",
       "dtype: int64"
      ]
     },
     "execution_count": 10,
     "metadata": {},
     "output_type": "execute_result"
    }
   ],
   "source": [
    "df2.isnull().sum()"
   ]
  },
  {
   "cell_type": "markdown",
   "metadata": {},
   "source": [
    "*Fill the NaN values with mode of the individual corresponding coloumns.*"
   ]
  },
  {
   "cell_type": "code",
   "execution_count": 11,
   "metadata": {},
   "outputs": [],
   "source": [
    "df2['Tempreature'].fillna(df2['Tempreature'].mode()[0],inplace=True)\n",
    "df2['Dp'].fillna(df2['Dp'].mode()[0],inplace=True)\n",
    "df2['Humidity'].fillna(df2['Humidity'].mode()[0],inplace=True)\n",
    "df2['Pressure'].fillna(df2['Pressure'].mode()[0],inplace=True)"
   ]
  },
  {
   "cell_type": "markdown",
   "metadata": {},
   "source": [
    "*Recheck how many null values are present in data to make sure all NaN values are filled.*"
   ]
  },
  {
   "cell_type": "code",
   "execution_count": 12,
   "metadata": {},
   "outputs": [
    {
     "data": {
      "text/plain": [
       "Date                     0\n",
       "Active Power (kw)        0\n",
       "Wind Speed (miles/hr)    0\n",
       "Tempreature              0\n",
       "Dp                       0\n",
       "Humidity                 0\n",
       "Pressure                 0\n",
       "dtype: int64"
      ]
     },
     "execution_count": 12,
     "metadata": {},
     "output_type": "execute_result"
    }
   ],
   "source": [
    "df2.isnull().sum()"
   ]
  },
  {
   "cell_type": "code",
   "execution_count": 13,
   "metadata": {
    "scrolled": true
   },
   "outputs": [
    {
     "data": {
      "text/html": [
       "<div>\n",
       "<style scoped>\n",
       "    .dataframe tbody tr th:only-of-type {\n",
       "        vertical-align: middle;\n",
       "    }\n",
       "\n",
       "    .dataframe tbody tr th {\n",
       "        vertical-align: top;\n",
       "    }\n",
       "\n",
       "    .dataframe thead th {\n",
       "        text-align: right;\n",
       "    }\n",
       "</style>\n",
       "<table border=\"1\" class=\"dataframe\">\n",
       "  <thead>\n",
       "    <tr style=\"text-align: right;\">\n",
       "      <th></th>\n",
       "      <th>Date</th>\n",
       "      <th>Active Power (kw)</th>\n",
       "      <th>Wind Speed (miles/hr)</th>\n",
       "      <th>Tempreature</th>\n",
       "      <th>Dp</th>\n",
       "      <th>Humidity</th>\n",
       "      <th>Pressure</th>\n",
       "    </tr>\n",
       "  </thead>\n",
       "  <tbody>\n",
       "    <tr>\n",
       "      <th>1537</th>\n",
       "      <td>2018-01-31 21:50:00</td>\n",
       "      <td>799.017843</td>\n",
       "      <td>15.054775</td>\n",
       "      <td>45 F</td>\n",
       "      <td>30 F</td>\n",
       "      <td>57 %</td>\n",
       "      <td>29.87 in</td>\n",
       "    </tr>\n",
       "    <tr>\n",
       "      <th>1538</th>\n",
       "      <td>2018-01-31 22:20:00</td>\n",
       "      <td>903.105123</td>\n",
       "      <td>15.563298</td>\n",
       "      <td>43 F</td>\n",
       "      <td>30 F</td>\n",
       "      <td>61 %</td>\n",
       "      <td>29.87 in</td>\n",
       "    </tr>\n",
       "    <tr>\n",
       "      <th>1539</th>\n",
       "      <td>2018-01-31 22:50:00</td>\n",
       "      <td>758.728760</td>\n",
       "      <td>14.776648</td>\n",
       "      <td>43 F</td>\n",
       "      <td>28 F</td>\n",
       "      <td>57 %</td>\n",
       "      <td>29.87 in</td>\n",
       "    </tr>\n",
       "    <tr>\n",
       "      <th>1540</th>\n",
       "      <td>2018-01-31 23:20:00</td>\n",
       "      <td>1036.663330</td>\n",
       "      <td>16.205472</td>\n",
       "      <td>43 F</td>\n",
       "      <td>30 F</td>\n",
       "      <td>61 %</td>\n",
       "      <td>29.87 in</td>\n",
       "    </tr>\n",
       "    <tr>\n",
       "      <th>1541</th>\n",
       "      <td>2018-01-31 23:50:00</td>\n",
       "      <td>894.865072</td>\n",
       "      <td>15.407909</td>\n",
       "      <td>41 F</td>\n",
       "      <td>30 F</td>\n",
       "      <td>65 %</td>\n",
       "      <td>29.87 in</td>\n",
       "    </tr>\n",
       "  </tbody>\n",
       "</table>\n",
       "</div>"
      ],
      "text/plain": [
       "                    Date  Active Power (kw)  Wind Speed (miles/hr)  \\\n",
       "1537 2018-01-31 21:50:00         799.017843              15.054775   \n",
       "1538 2018-01-31 22:20:00         903.105123              15.563298   \n",
       "1539 2018-01-31 22:50:00         758.728760              14.776648   \n",
       "1540 2018-01-31 23:20:00        1036.663330              16.205472   \n",
       "1541 2018-01-31 23:50:00         894.865072              15.407909   \n",
       "\n",
       "     Tempreature    Dp Humidity  Pressure  \n",
       "1537        45 F  30 F     57 %  29.87 in  \n",
       "1538        43 F  30 F     61 %  29.87 in  \n",
       "1539        43 F  28 F     57 %  29.87 in  \n",
       "1540        43 F  30 F     61 %  29.87 in  \n",
       "1541        41 F  30 F     65 %  29.87 in  "
      ]
     },
     "execution_count": 13,
     "metadata": {},
     "output_type": "execute_result"
    }
   ],
   "source": [
    "df2.tail()"
   ]
  },
  {
   "cell_type": "markdown",
   "metadata": {},
   "source": [
    "*Save the dataframe into csv file.*"
   ]
  },
  {
   "cell_type": "code",
   "execution_count": 14,
   "metadata": {},
   "outputs": [],
   "source": [
    "df2.to_csv('janfinal.csv')"
   ]
  },
  {
   "cell_type": "code",
   "execution_count": null,
   "metadata": {},
   "outputs": [],
   "source": []
  }
 ],
 "metadata": {
  "kernelspec": {
   "display_name": "Python 3",
   "language": "python",
   "name": "python3"
  },
  "language_info": {
   "codemirror_mode": {
    "name": "ipython",
    "version": 3
   },
   "file_extension": ".py",
   "mimetype": "text/x-python",
   "name": "python",
   "nbconvert_exporter": "python",
   "pygments_lexer": "ipython3",
   "version": "3.7.6"
  }
 },
 "nbformat": 4,
 "nbformat_minor": 4
}
