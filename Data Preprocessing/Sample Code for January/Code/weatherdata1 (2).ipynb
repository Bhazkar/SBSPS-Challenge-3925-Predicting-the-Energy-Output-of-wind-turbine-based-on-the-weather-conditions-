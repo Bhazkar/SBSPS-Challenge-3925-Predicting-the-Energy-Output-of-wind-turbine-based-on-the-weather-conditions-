{
 "cells": [
  {
   "cell_type": "markdown",
   "metadata": {},
   "source": [
    "*Import pandas library and read csv file and assigning into a dataframe.*"
   ]
  },
  {
   "cell_type": "code",
   "execution_count": 1,
   "metadata": {
    "scrolled": false
   },
   "outputs": [
    {
     "data": {
      "text/html": [
       "<div>\n",
       "<style scoped>\n",
       "    .dataframe tbody tr th:only-of-type {\n",
       "        vertical-align: middle;\n",
       "    }\n",
       "\n",
       "    .dataframe tbody tr th {\n",
       "        vertical-align: top;\n",
       "    }\n",
       "\n",
       "    .dataframe thead th {\n",
       "        text-align: right;\n",
       "    }\n",
       "</style>\n",
       "<table border=\"1\" class=\"dataframe\">\n",
       "  <thead>\n",
       "    <tr style=\"text-align: right;\">\n",
       "      <th></th>\n",
       "      <th>Date</th>\n",
       "      <th>Tempreature</th>\n",
       "      <th>Dp</th>\n",
       "      <th>Humidity</th>\n",
       "      <th>WindSpeed</th>\n",
       "      <th>Pressure</th>\n",
       "    </tr>\n",
       "  </thead>\n",
       "  <tbody>\n",
       "    <tr>\n",
       "      <th>0</th>\n",
       "      <td>00:20:00</td>\n",
       "      <td>43 F</td>\n",
       "      <td>41 F</td>\n",
       "      <td>93 %</td>\n",
       "      <td>7 mph</td>\n",
       "      <td>29.75 in</td>\n",
       "    </tr>\n",
       "    <tr>\n",
       "      <th>1</th>\n",
       "      <td>00:50:00</td>\n",
       "      <td>43 F</td>\n",
       "      <td>39 F</td>\n",
       "      <td>87 %</td>\n",
       "      <td>7 mph</td>\n",
       "      <td>29.75 in</td>\n",
       "    </tr>\n",
       "    <tr>\n",
       "      <th>2</th>\n",
       "      <td>01:20:00</td>\n",
       "      <td>45 F</td>\n",
       "      <td>39 F</td>\n",
       "      <td>81 %</td>\n",
       "      <td>7 mph</td>\n",
       "      <td>29.75 in</td>\n",
       "    </tr>\n",
       "    <tr>\n",
       "      <th>3</th>\n",
       "      <td>01:50:00</td>\n",
       "      <td>45 F</td>\n",
       "      <td>39 F</td>\n",
       "      <td>81 %</td>\n",
       "      <td>7 mph</td>\n",
       "      <td>29.75 in</td>\n",
       "    </tr>\n",
       "    <tr>\n",
       "      <th>4</th>\n",
       "      <td>02:20:00</td>\n",
       "      <td>45 F</td>\n",
       "      <td>41 F</td>\n",
       "      <td>87 %</td>\n",
       "      <td>8 mph</td>\n",
       "      <td>29.75 in</td>\n",
       "    </tr>\n",
       "  </tbody>\n",
       "</table>\n",
       "</div>"
      ],
      "text/plain": [
       "       Date Tempreature    Dp Humidity WindSpeed  Pressure\n",
       "0  00:20:00        43 F  41 F     93 %     7 mph  29.75 in\n",
       "1  00:50:00        43 F  39 F     87 %     7 mph  29.75 in\n",
       "2  01:20:00        45 F  39 F     81 %     7 mph  29.75 in\n",
       "3  01:50:00        45 F  39 F     81 %     7 mph  29.75 in\n",
       "4  02:20:00        45 F  41 F     87 %     8 mph  29.75 in"
      ]
     },
     "execution_count": 1,
     "metadata": {},
     "output_type": "execute_result"
    }
   ],
   "source": [
    "import pandas as pd\n",
    "df = pd.read_excel('january.xlsx')\n",
    "df.head()"
   ]
  },
  {
   "cell_type": "code",
   "execution_count": 2,
   "metadata": {},
   "outputs": [
    {
     "data": {
      "text/html": [
       "<div>\n",
       "<style scoped>\n",
       "    .dataframe tbody tr th:only-of-type {\n",
       "        vertical-align: middle;\n",
       "    }\n",
       "\n",
       "    .dataframe tbody tr th {\n",
       "        vertical-align: top;\n",
       "    }\n",
       "\n",
       "    .dataframe thead th {\n",
       "        text-align: right;\n",
       "    }\n",
       "</style>\n",
       "<table border=\"1\" class=\"dataframe\">\n",
       "  <thead>\n",
       "    <tr style=\"text-align: right;\">\n",
       "      <th></th>\n",
       "      <th>Date</th>\n",
       "      <th>Tempreature</th>\n",
       "      <th>Dp</th>\n",
       "      <th>Humidity</th>\n",
       "      <th>WindSpeed</th>\n",
       "      <th>Pressure</th>\n",
       "    </tr>\n",
       "  </thead>\n",
       "  <tbody>\n",
       "    <tr>\n",
       "      <th>1532</th>\n",
       "      <td>21:50:00</td>\n",
       "      <td>45 F</td>\n",
       "      <td>30 F</td>\n",
       "      <td>57 %</td>\n",
       "      <td>6 mph</td>\n",
       "      <td>29.87 in</td>\n",
       "    </tr>\n",
       "    <tr>\n",
       "      <th>1533</th>\n",
       "      <td>22:20:00</td>\n",
       "      <td>43 F</td>\n",
       "      <td>30 F</td>\n",
       "      <td>61 %</td>\n",
       "      <td>6 mph</td>\n",
       "      <td>29.87 in</td>\n",
       "    </tr>\n",
       "    <tr>\n",
       "      <th>1534</th>\n",
       "      <td>22:50:00</td>\n",
       "      <td>43 F</td>\n",
       "      <td>28 F</td>\n",
       "      <td>57 %</td>\n",
       "      <td>3 mph</td>\n",
       "      <td>29.87 in</td>\n",
       "    </tr>\n",
       "    <tr>\n",
       "      <th>1535</th>\n",
       "      <td>23:20:00</td>\n",
       "      <td>43 F</td>\n",
       "      <td>30 F</td>\n",
       "      <td>61 %</td>\n",
       "      <td>6 mph</td>\n",
       "      <td>29.87 in</td>\n",
       "    </tr>\n",
       "    <tr>\n",
       "      <th>1536</th>\n",
       "      <td>23:50:00</td>\n",
       "      <td>41 F</td>\n",
       "      <td>30 F</td>\n",
       "      <td>65 %</td>\n",
       "      <td>5 mph</td>\n",
       "      <td>29.87 in</td>\n",
       "    </tr>\n",
       "  </tbody>\n",
       "</table>\n",
       "</div>"
      ],
      "text/plain": [
       "          Date Tempreature    Dp Humidity WindSpeed  Pressure\n",
       "1532  21:50:00        45 F  30 F     57 %     6 mph  29.87 in\n",
       "1533  22:20:00        43 F  30 F     61 %     6 mph  29.87 in\n",
       "1534  22:50:00        43 F  28 F     57 %     3 mph  29.87 in\n",
       "1535  23:20:00        43 F  30 F     61 %     6 mph  29.87 in\n",
       "1536  23:50:00        41 F  30 F     65 %     5 mph  29.87 in"
      ]
     },
     "execution_count": 2,
     "metadata": {},
     "output_type": "execute_result"
    }
   ],
   "source": [
    "df.tail()\n"
   ]
  },
  {
   "cell_type": "markdown",
   "metadata": {},
   "source": [
    "*Initialize the value of x.*"
   ]
  },
  {
   "cell_type": "code",
   "execution_count": 3,
   "metadata": {},
   "outputs": [],
   "source": [
    "x=0"
   ]
  },
  {
   "cell_type": "markdown",
   "metadata": {},
   "source": [
    "*Function to add date in dataframe.*"
   ]
  },
  {
   "cell_type": "code",
   "execution_count": 4,
   "metadata": {},
   "outputs": [],
   "source": [
    "def convert24(str1,i):\n",
    "    global x\n",
    "       \n",
    "    \n",
    "    if str1[0:5] == '00:20':\n",
    "        x=x+1\n",
    "        return str(x)+\"-01-2018 \"+str1[0:]\n",
    "    \n",
    "    \n",
    "    return str(x) +\"-01-2018 \" +str1[0:]"
   ]
  },
  {
   "cell_type": "markdown",
   "metadata": {},
   "source": [
    "*Apply for loop to apply convert24 function to all entries in Date coloumn.*"
   ]
  },
  {
   "cell_type": "code",
   "execution_count": 5,
   "metadata": {},
   "outputs": [],
   "source": [
    "x=0\n",
    "for i in range(0,1537):\n",
    "    \n",
    "    \n",
    "    df.Date[i]=convert24(str(df.Date[i]),i)\n"
   ]
  },
  {
   "cell_type": "code",
   "execution_count": 6,
   "metadata": {},
   "outputs": [
    {
     "data": {
      "text/html": [
       "<div>\n",
       "<style scoped>\n",
       "    .dataframe tbody tr th:only-of-type {\n",
       "        vertical-align: middle;\n",
       "    }\n",
       "\n",
       "    .dataframe tbody tr th {\n",
       "        vertical-align: top;\n",
       "    }\n",
       "\n",
       "    .dataframe thead th {\n",
       "        text-align: right;\n",
       "    }\n",
       "</style>\n",
       "<table border=\"1\" class=\"dataframe\">\n",
       "  <thead>\n",
       "    <tr style=\"text-align: right;\">\n",
       "      <th></th>\n",
       "      <th>Date</th>\n",
       "      <th>Tempreature</th>\n",
       "      <th>Dp</th>\n",
       "      <th>Humidity</th>\n",
       "      <th>WindSpeed</th>\n",
       "      <th>Pressure</th>\n",
       "    </tr>\n",
       "  </thead>\n",
       "  <tbody>\n",
       "    <tr>\n",
       "      <th>0</th>\n",
       "      <td>1-01-2018 00:20:00</td>\n",
       "      <td>43 F</td>\n",
       "      <td>41 F</td>\n",
       "      <td>93 %</td>\n",
       "      <td>7 mph</td>\n",
       "      <td>29.75 in</td>\n",
       "    </tr>\n",
       "    <tr>\n",
       "      <th>1</th>\n",
       "      <td>1-01-2018 00:50:00</td>\n",
       "      <td>43 F</td>\n",
       "      <td>39 F</td>\n",
       "      <td>87 %</td>\n",
       "      <td>7 mph</td>\n",
       "      <td>29.75 in</td>\n",
       "    </tr>\n",
       "    <tr>\n",
       "      <th>2</th>\n",
       "      <td>1-01-2018 01:20:00</td>\n",
       "      <td>45 F</td>\n",
       "      <td>39 F</td>\n",
       "      <td>81 %</td>\n",
       "      <td>7 mph</td>\n",
       "      <td>29.75 in</td>\n",
       "    </tr>\n",
       "    <tr>\n",
       "      <th>3</th>\n",
       "      <td>1-01-2018 01:50:00</td>\n",
       "      <td>45 F</td>\n",
       "      <td>39 F</td>\n",
       "      <td>81 %</td>\n",
       "      <td>7 mph</td>\n",
       "      <td>29.75 in</td>\n",
       "    </tr>\n",
       "    <tr>\n",
       "      <th>4</th>\n",
       "      <td>1-01-2018 02:20:00</td>\n",
       "      <td>45 F</td>\n",
       "      <td>41 F</td>\n",
       "      <td>87 %</td>\n",
       "      <td>8 mph</td>\n",
       "      <td>29.75 in</td>\n",
       "    </tr>\n",
       "  </tbody>\n",
       "</table>\n",
       "</div>"
      ],
      "text/plain": [
       "                 Date Tempreature    Dp Humidity WindSpeed  Pressure\n",
       "0  1-01-2018 00:20:00        43 F  41 F     93 %     7 mph  29.75 in\n",
       "1  1-01-2018 00:50:00        43 F  39 F     87 %     7 mph  29.75 in\n",
       "2  1-01-2018 01:20:00        45 F  39 F     81 %     7 mph  29.75 in\n",
       "3  1-01-2018 01:50:00        45 F  39 F     81 %     7 mph  29.75 in\n",
       "4  1-01-2018 02:20:00        45 F  41 F     87 %     8 mph  29.75 in"
      ]
     },
     "execution_count": 6,
     "metadata": {},
     "output_type": "execute_result"
    }
   ],
   "source": [
    "df.head()"
   ]
  },
  {
   "cell_type": "code",
   "execution_count": 7,
   "metadata": {},
   "outputs": [
    {
     "data": {
      "text/html": [
       "<div>\n",
       "<style scoped>\n",
       "    .dataframe tbody tr th:only-of-type {\n",
       "        vertical-align: middle;\n",
       "    }\n",
       "\n",
       "    .dataframe tbody tr th {\n",
       "        vertical-align: top;\n",
       "    }\n",
       "\n",
       "    .dataframe thead th {\n",
       "        text-align: right;\n",
       "    }\n",
       "</style>\n",
       "<table border=\"1\" class=\"dataframe\">\n",
       "  <thead>\n",
       "    <tr style=\"text-align: right;\">\n",
       "      <th></th>\n",
       "      <th>Date</th>\n",
       "      <th>Tempreature</th>\n",
       "      <th>Dp</th>\n",
       "      <th>Humidity</th>\n",
       "      <th>WindSpeed</th>\n",
       "      <th>Pressure</th>\n",
       "    </tr>\n",
       "  </thead>\n",
       "  <tbody>\n",
       "    <tr>\n",
       "      <th>1532</th>\n",
       "      <td>31-01-2018 21:50:00</td>\n",
       "      <td>45 F</td>\n",
       "      <td>30 F</td>\n",
       "      <td>57 %</td>\n",
       "      <td>6 mph</td>\n",
       "      <td>29.87 in</td>\n",
       "    </tr>\n",
       "    <tr>\n",
       "      <th>1533</th>\n",
       "      <td>31-01-2018 22:20:00</td>\n",
       "      <td>43 F</td>\n",
       "      <td>30 F</td>\n",
       "      <td>61 %</td>\n",
       "      <td>6 mph</td>\n",
       "      <td>29.87 in</td>\n",
       "    </tr>\n",
       "    <tr>\n",
       "      <th>1534</th>\n",
       "      <td>31-01-2018 22:50:00</td>\n",
       "      <td>43 F</td>\n",
       "      <td>28 F</td>\n",
       "      <td>57 %</td>\n",
       "      <td>3 mph</td>\n",
       "      <td>29.87 in</td>\n",
       "    </tr>\n",
       "    <tr>\n",
       "      <th>1535</th>\n",
       "      <td>31-01-2018 23:20:00</td>\n",
       "      <td>43 F</td>\n",
       "      <td>30 F</td>\n",
       "      <td>61 %</td>\n",
       "      <td>6 mph</td>\n",
       "      <td>29.87 in</td>\n",
       "    </tr>\n",
       "    <tr>\n",
       "      <th>1536</th>\n",
       "      <td>31-01-2018 23:50:00</td>\n",
       "      <td>41 F</td>\n",
       "      <td>30 F</td>\n",
       "      <td>65 %</td>\n",
       "      <td>5 mph</td>\n",
       "      <td>29.87 in</td>\n",
       "    </tr>\n",
       "  </tbody>\n",
       "</table>\n",
       "</div>"
      ],
      "text/plain": [
       "                     Date Tempreature    Dp Humidity WindSpeed  Pressure\n",
       "1532  31-01-2018 21:50:00        45 F  30 F     57 %     6 mph  29.87 in\n",
       "1533  31-01-2018 22:20:00        43 F  30 F     61 %     6 mph  29.87 in\n",
       "1534  31-01-2018 22:50:00        43 F  28 F     57 %     3 mph  29.87 in\n",
       "1535  31-01-2018 23:20:00        43 F  30 F     61 %     6 mph  29.87 in\n",
       "1536  31-01-2018 23:50:00        41 F  30 F     65 %     5 mph  29.87 in"
      ]
     },
     "execution_count": 7,
     "metadata": {},
     "output_type": "execute_result"
    }
   ],
   "source": [
    "df.tail()"
   ]
  },
  {
   "cell_type": "markdown",
   "metadata": {},
   "source": [
    "*Save the dataframe into csv file.*"
   ]
  },
  {
   "cell_type": "code",
   "execution_count": 8,
   "metadata": {},
   "outputs": [],
   "source": [
    "df.to_csv('january1.csv')"
   ]
  },
  {
   "cell_type": "code",
   "execution_count": null,
   "metadata": {},
   "outputs": [],
   "source": []
  }
 ],
 "metadata": {
  "kernelspec": {
   "display_name": "Python 3",
   "language": "python",
   "name": "python3"
  },
  "language_info": {
   "codemirror_mode": {
    "name": "ipython",
    "version": 3
   },
   "file_extension": ".py",
   "mimetype": "text/x-python",
   "name": "python",
   "nbconvert_exporter": "python",
   "pygments_lexer": "ipython3",
   "version": "3.7.6"
  }
 },
 "nbformat": 4,
 "nbformat_minor": 4
}
